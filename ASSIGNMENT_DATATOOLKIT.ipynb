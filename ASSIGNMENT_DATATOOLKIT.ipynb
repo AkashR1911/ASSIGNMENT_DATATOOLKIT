{
  "nbformat": 4,
  "nbformat_minor": 0,
  "metadata": {
    "colab": {
      "provenance": []
    },
    "kernelspec": {
      "name": "python3",
      "display_name": "Python 3"
    },
    "language_info": {
      "name": "python"
    }
  },
  "cells": [
    {
      "cell_type": "code",
      "execution_count": null,
      "metadata": {
        "id": "12enutG5cDq-"
      },
      "outputs": [],
      "source": [
        "\"\"\"\n",
        "1.What is NumPy, and why is it widely used in Python\n",
        "NumPy is python library which is used for mathematical computation (numerical)\n",
        "it is widely used for arrays multidimensional arrays and matrices.\n",
        "\n",
        "2. How does broadcasting work in NumPy\n",
        "Broadcasting allows NumPy to perform operations on arrays of different shapes.\n",
        "It automatically expands the smaller array to match the shape of the larger one\n",
        "without copying data, enabling element-wise operations efficiently\n",
        "\n",
        "3.What is a Pandas DataFrame\n",
        "A DataFrame is a two-dimensional labeled data structure with columns of potentially different types.\n",
        "It's like a spreadsheet or SQL table and is one of the most commonly used structures in data analysis with Pandas.\n",
        "\n",
        "4.Explain the use of the groupby() method in Pandas\n",
        "The groupby() method is used to group data based on values in one or more columns.\n",
        "It allows you to perform aggregate functions like sum, mean, or count on each group.\n",
        "\n",
        "5.Why is Seaborn preferred for statistical visualizations\n",
        "Seaborn is built on Matplotlib and provides a higher-level interface for creating attractive and informative statistical graphics.\n",
        "It integrates well with Pandas and supports complex visualizations like violin plots, boxplots, and heatmaps with minimal code.\n",
        "\n",
        "6. What are the differences between NumPy arrays and Python lists\n",
        "NumPy arrays are more efficient in terms of performance and memory.\n",
        "They support vectorized operations.\n",
        "They require elements to be of the same data type, unlike Python lists.\n",
        "\n",
        "7.What is a heatmap, and when should it be used\n",
        "A heatmap is a data visualization technique that uses color to represent the values of a matrix.\n",
        "It's especially useful for visualizing correlation matrices or any data that’s better understood through patterns and intensities\n",
        "\n",
        "8. What does the term “vectorized operation” mean in NumPy\n",
        "It refers to performing operations on entire arrays rather than individual elements using loops.\n",
        "Vectorized operations are faster and more concise\n",
        "9.How does Matplotlib differ from Plotly\n",
        "Matplotlib is a static plotting library while Plotly is interactive.\n",
        "Plotly supports zooming, panning, and hover effects, making it ideal for web-based dashboards.\n",
        "\n",
        "10.What is the significance of hierarchical indexing in Pandas\n",
        "It allows multiple (two or more) index levels on a DataFrame or Series.\n",
        "This is useful for working with high-dimensional data in a structured and flexible way\n",
        "\n",
        "11. What is the role of Seaborn’s pairplot() function\n",
        "pairplot() creates a matrix of scatterplots to visualize pairwise relationships in a dataset.\n",
        "It's especially useful in exploring patterns and relationships in multivariate data.\n",
        "\n",
        "12. What is the purpose of the describe() function in Pandas\n",
        "It provides a summary of the statistical properties (count, mean, std, min, max, quartiles) of numeric columns in a DataFrame\n",
        "\n",
        "13.Why is handling missing data important in Pandas\n",
        "Missing data can distort analysis, lead to errors, or bias results. Pandas offers methods like fillna() and dropna() to handle them cleanly\n",
        "\n",
        "14. What are the benefits of using Plotly for data visualization\n",
        "Interactive plots\n",
        "Beautiful default styles\n",
        "Integration with web apps\n",
        "Support for 3D plotting\n",
        "\n",
        "15.How does NumPy handle multidimensional arrays\n",
        "NumPy uses the ndarray object to handle N-dimensional arrays efficiently,\n",
        "offering fast slicing, reshaping, broadcasting, and element-wise operations.\n",
        "\n",
        "16.What is the role of Bokeh in data visualization\n",
        "Bokeh is a Python library for creating interactive visualizations for modern web browsers.\n",
        "It is ideal for building complex dashboards.\n",
        "\n",
        "17.Explain the difference between apply() and map() in Pandas\n",
        "map() works on Series and is used for element-wise operations.\n",
        "apply() can be used on Series or DataFrames and applies a function along an axis (row or column).\n",
        "\n",
        "18. What are some advanced features of NumPy\n",
        "Broadcasting\n",
        "Masked arrays\n",
        "Structured arrays\n",
        "Random number generation\n",
        "Linear algebra and Fourier transforms\n",
        "\n",
        "19. How does Pandas simplify time series analysis\n",
        "Date range generation\n",
        "Frequency conversion\n",
        "Resampling\n",
        "Rolling window operations\n",
        "\n",
        "20. What is the role of a pivot table in Pandas\n",
        "Pivot tables summarize data based on one or more keys. It reshapes and aggregates data,\n",
        "making it easier to analyze grouped or categorized information\n",
        "\n",
        "21. Why is NumPy’s array slicing faster than Python’s list slicing\n",
        "NumPy arrays are stored in contiguous memory blocks, enabling faster access and manipulation,\n",
        "while Python lists store references to objects.\n",
        "\n",
        "22. What are some common use cases for Seaborn?\n",
        "Correlation heatmaps\n",
        "Distribution plot\n",
        "Regression plots\n",
        "Box/violin plots\n",
        "Pairwise relationship plots\n",
        "\n",
        "\n",
        "\"\"\""
      ]
    },
    {
      "cell_type": "code",
      "source": [
        "# How do you create a 2D NumPy array and calculate the sum of each row\n",
        "import numpy as np\n",
        "arr = np.array([[1, 2], [3, 4], [5, 6]])\n",
        "row_sums = np.sum(arr, axis=1)\n",
        "print(row_sums)\n",
        "\n"
      ],
      "metadata": {
        "id": "mNjoPbRedOLs"
      },
      "execution_count": null,
      "outputs": []
    },
    {
      "cell_type": "code",
      "source": [
        "# Write a Pandas script to find the mean of a specific column in a DataFrame\n",
        "import pandas as pd\n",
        "df = pd.DataFrame({'A': [1, 2, 3, 4]})\n",
        "print(df['A'].mean())\n"
      ],
      "metadata": {
        "id": "X7b1NBoofyBk"
      },
      "execution_count": null,
      "outputs": []
    },
    {
      "cell_type": "code",
      "source": [
        "#Create a scatter plot using Matplotlib\n",
        "import matplotlib.pyplot as plt\n",
        "x = [1, 2, 3, 4]\n",
        "y = [10, 20, 25, 30]\n",
        "plt.scatter(x, y)\n",
        "plt.show()\n"
      ],
      "metadata": {
        "id": "-C4HAyoQgFof"
      },
      "execution_count": null,
      "outputs": []
    },
    {
      "cell_type": "code",
      "source": [
        "# How do you calculate the correlation matrix using Seaborn and visualize it with a heatmap\n",
        "import seaborn as sns\n",
        "import pandas as pd\n",
        "df = pd.DataFrame(sns.load_dataset('iris'))\n",
        "corr = df.corr(numeric_only=True)\n",
        "sns.heatmap(corr, annot=True)\n"
      ],
      "metadata": {
        "id": "LXJIQ6UzgHfO"
      },
      "execution_count": null,
      "outputs": []
    },
    {
      "cell_type": "code",
      "source": [
        "# Generate a bar plot using Plotly\n",
        "import plotly.express as px\n",
        "df = px.data.tips()\n",
        "fig = px.bar(df, x=\"day\", y=\"total_bill\", color=\"sex\")\n",
        "fig.show()\n"
      ],
      "metadata": {
        "id": "Z1jv8vOcgJRD"
      },
      "execution_count": null,
      "outputs": []
    },
    {
      "cell_type": "code",
      "source": [
        "# Create a DataFrame and add a new column based on an existing column\n",
        "df = pd.DataFrame({'value': [1, 2, 3]})\n",
        "df['double'] = df['value'] * 2\n",
        "print(df)\n"
      ],
      "metadata": {
        "id": "sTHkzAd9gLTD"
      },
      "execution_count": null,
      "outputs": []
    },
    {
      "cell_type": "code",
      "source": [
        "# Write a program to perform element-wise multiplication of two NumPy arrays\n",
        "a = np.array([1, 2, 3])\n",
        "b = np.array([4, 5, 6])\n",
        "print(a * b)\n"
      ],
      "metadata": {
        "id": "o62TDi5RgNhi"
      },
      "execution_count": null,
      "outputs": []
    },
    {
      "cell_type": "code",
      "source": [
        "# Create a line plot with multiple lines using Matplotlib\n",
        "x = [1, 2, 3]\n",
        "plt.plot(x, [1, 4, 9], label=\"Line 1\")\n",
        "plt.plot(x, [2, 5, 10], label=\"Line 2\")\n",
        "plt.legend()\n",
        "plt.show()\n"
      ],
      "metadata": {
        "id": "NSHRk9DCgVLQ"
      },
      "execution_count": null,
      "outputs": []
    },
    {
      "cell_type": "code",
      "source": [
        "# Generate a Pandas DataFrame and filter rows where a column value is greater than a threshold\n",
        "df = pd.DataFrame({'A': [10, 20, 30]})\n",
        "filtered_df = df[df['A'] > 15]\n",
        "print(filtered_df)\n"
      ],
      "metadata": {
        "id": "-qEdudC5gW-n"
      },
      "execution_count": null,
      "outputs": []
    },
    {
      "cell_type": "code",
      "source": [
        "# Create a histogram using Seaborn to visualize a distribution\n",
        "sns.histplot(data=df, x=\"A\", bins=5)\n"
      ],
      "metadata": {
        "id": "HkYs9nnGgY5e"
      },
      "execution_count": null,
      "outputs": []
    },
    {
      "cell_type": "code",
      "source": [
        "# Perform matrix multiplication using NumPy\n",
        "a = np.array([[1, 2], [3, 4]])\n",
        "b = np.array([[5, 6], [7, 8]])\n",
        "print(np.dot(a, b))\n"
      ],
      "metadata": {
        "id": "YSmtIs9Cgbc4"
      },
      "execution_count": null,
      "outputs": []
    },
    {
      "cell_type": "code",
      "source": [
        "# Use Pandas to load a CSV file and display its first 5 rows\n",
        "df = pd.read_csv(\"your_file.csv\")\n",
        "print(df.head())\n"
      ],
      "metadata": {
        "id": "sDiiyFZigdZH"
      },
      "execution_count": null,
      "outputs": []
    },
    {
      "cell_type": "code",
      "source": [
        "# Create a 3D scatter plot using Plotly.\n",
        "import plotly.express as px\n",
        "df = px.data.iris()\n",
        "fig = px.scatter_3d(df, x='sepal_length', y='sepal_width', z='petal_length', color='species')\n",
        "fig.show()\n"
      ],
      "metadata": {
        "id": "r6xfPcFggfwg"
      },
      "execution_count": null,
      "outputs": []
    }
  ]
}